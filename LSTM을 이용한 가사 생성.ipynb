{
 "cells": [
  {
   "cell_type": "code",
   "execution_count": 36,
   "metadata": {},
   "outputs": [
    {
     "name": "stdout",
     "output_type": "stream",
     "text": [
      "데이터 크기: 187088\n",
      "Examples:\n",
      " ['Looking for some education', 'Made my way into the night', 'All that bullshit conversation']\n"
     ]
    }
   ],
   "source": [
    "import glob\n",
    "import os\n",
    "txt_file_path = './aiffel/lyricist/archive (1)/*' # 파일 path\n",
    "txt_list = glob.glob(txt_file_path) # 읽어올 파일들의 리스트. 여러개의 파일을 다룰 때 사용\n",
    "raw_corpus = [] # 여러개의 txt 파일을 모두 읽어서 raw_corpus 에 담습니다.\n",
    "for txt_file in txt_list: # 파일 리스트 중에서 파일 하나를 선택\n",
    "    with open(txt_file, \"r\", encoding='UTF-8') as f: #파일 open\n",
    "        raw = f.read().splitlines() #한 줄씩 읽기, \\n 제거\n",
    "        raw_corpus.extend(raw) #해당 내용을 raw_corpus에 추가\n",
    "print(\"데이터 크기:\", len(raw_corpus))\n",
    "print(\"Examples:\\n\", raw_corpus[:3])"
   ]
  },
  {
   "cell_type": "code",
   "execution_count": 28,
   "metadata": {},
   "outputs": [
    {
     "name": "stdout",
     "output_type": "stream",
     "text": [
      "<start> this is sample sentence <end>\n"
     ]
    }
   ],
   "source": [
    "import re\n",
    "\n",
    "def preprocess_sentence(sentence):\n",
    "    sentence = sentence.lower().strip()       # 소문자로 바꾸고 양쪽 공백을 삭제\n",
    "    # 아래 3단계를 거쳐 sentence는 스페이스 1개를 delimeter로 하는 소문자 단어 시퀀스로 바뀝니다.\n",
    "    sentence = re.sub(r\"([?.!,¿])\", r\" \\\\1 \", sentence)  # 패턴의 특수문자를 만나면 특수문자 양쪽에 공백을 추가\n",
    "    sentence = re.sub(r'[\" \"]+', \" \", sentence)   # 공백이 여러개여도 스페이스 1개로 치환\n",
    "    sentence = re.sub(r\"[^a-zA-Z?.!,¿]+\", \" \", sentence)  # a-zA-Z?.!,¿ 패턴을 제외한 모든 문자(공백문자까지도)를 스페이스 1개로 치환\n",
    "    sentence = sentence.strip()\n",
    "    sentence = '<start> ' + sentence + ' <end>'      # 문장 앞뒤로 <start>와 <end>를 추가\n",
    "    return sentence\n",
    "print(preprocess_sentence(\"This @_is ;;;sample        sentence.\"))  "
   ]
  },
  {
   "cell_type": "code",
   "execution_count": 29,
   "metadata": {},
   "outputs": [
    {
     "data": {
      "text/plain": [
       "['<start> looking for some education <end>',\n",
       " '<start> made my way into the night <end>',\n",
       " '<start> all that bullshit conversation <end>',\n",
       " '<start> baby can t you read the signs i won t bore you with the details baby <end>',\n",
       " '<start> i don t even wanna waste your time <end>',\n",
       " '<start> let s just say that maybe <end>',\n",
       " '<start> you could help me ease my mind <end>',\n",
       " '<start> i ain t mr right but if you re looking for fast love <end>',\n",
       " '<start> if that s love in your eyes <end>',\n",
       " '<start> it s more than enough <end>']"
      ]
     },
     "execution_count": 29,
     "metadata": {},
     "output_type": "execute_result"
    }
   ],
   "source": [
    "corpus = []\n",
    "for sentence in raw_corpus:\n",
    "    if len(sentence) == 0: continue # 문장 길이가 0이면 패스\n",
    "    if sentence[-1] == \":\": continue #  문장 마지막이 : 여도 패스\n",
    "    corpus.append(preprocess_sentence(sentence))\n",
    "corpus[:10]"
   ]
  },
  {
   "cell_type": "code",
   "execution_count": 30,
   "metadata": {},
   "outputs": [
    {
     "name": "stdout",
     "output_type": "stream",
     "text": [
      "[[  2 300  26 ...   0   0   0]\n",
      " [  2 217  12 ...   0   0   0]\n",
      " [  2  22  16 ...   0   0   0]\n",
      " ...\n",
      " [  2  21  73 ...   0   0   0]\n",
      " [  2  40  24 ...   0   0   0]\n",
      " [  2  21  73 ...   0   0   0]] <keras_preprocessing.text.Tokenizer object at 0x0000021A1AD07430>\n"
     ]
    }
   ],
   "source": [
    "import tensorflow as tf\n",
    "\n",
    "def tokenize(corpus):\n",
    "    # 텐서플로우에서 제공하는 Tokenizer 패키지를 생성\n",
    "    tokenizer = tf.keras.preprocessing.text.Tokenizer(\n",
    "        num_words=12000,  # 전체 단어의 개수 \n",
    "        filters=' ',    # 별도로 전처리 로직을 추가할 수 있습니다. 이번에는 사용하지 않겠습니다.\n",
    "        oov_token=\"<unk>\"  # out-of-vocabulary, 사전에 없었던 단어는 어떤 토큰으로 대체할지\n",
    "    )\n",
    "    tokenizer.fit_on_texts(corpus)   # 우리가 구축한 corpus로부터 Tokenizer가 사전을 자동구축\n",
    "    # 이후 tokenizer를 활용하여 모델에 입력할 데이터셋을 구축\n",
    "    tensor = tokenizer.texts_to_sequences(corpus)   \n",
    "    # tokenizer는 구축한 사전으로부터 corpus를 해석해 Tensor로 변환\n",
    "    # 입력 데이터의 시퀀스 길이를 일정하게 맞추기 위한 padding  메소드를 제공\n",
    "    # maxlen의 디폴트값은 None입니다. 이 경우 corpus의 가장 긴 문장을 기준으로 시퀀스 길이가 맞춰짐\n",
    "    tensor = tf.keras.preprocessing.sequence.pad_sequences(tensor, maxlen=15, padding='post')  \n",
    "    print(tensor,tokenizer)\n",
    "    return tensor, tokenizer\n",
    "tensor, tokenizer = tokenize(corpus)"
   ]
  },
  {
   "cell_type": "code",
   "execution_count": 41,
   "metadata": {},
   "outputs": [],
   "source": [
    "import numpy as np\n",
    "# 추가 처리\n",
    "tensor_cor = []\n",
    "for sentence in tensor:\n",
    "    if sentence[0] != 2: continue # 문장 제일 앞 부분이 <start>가 아닐 때 패스\n",
    "    if sentence[-1] != 0: continue # 문장 제일 끝 부분이 패딩된 값이 아닐 때 패스\n",
    "    tensor_cor.append(sentence)\n",
    "tensor = np.array(tensor_cor)"
   ]
  },
  {
   "cell_type": "code",
   "execution_count": 42,
   "metadata": {},
   "outputs": [
    {
     "data": {
      "text/plain": [
       "(155339, 15)"
      ]
     },
     "execution_count": 42,
     "metadata": {},
     "output_type": "execute_result"
    }
   ],
   "source": [
    "tensor.shape"
   ]
  },
  {
   "cell_type": "code",
   "execution_count": 43,
   "metadata": {},
   "outputs": [
    {
     "name": "stdout",
     "output_type": "stream",
     "text": [
      "[   2  300   26   95 4806    3    0    0    0    0    0    0    0    0]\n",
      "[ 300   26   95 4806    3    0    0    0    0    0    0    0    0    0]\n"
     ]
    }
   ],
   "source": [
    "src_input = tensor[:, :-1]  \n",
    "# tensor에서 마지막 토큰(여기선 0)을 잘라내서 소스 문장을 생성합니다. \n",
    "\n",
    "tgt_input = tensor[:, 1:]    \n",
    "# tensor에서 <start>를 잘라내서 타겟 문장을 생성합니다.\n",
    "print(src_input[0])\n",
    "print(tgt_input[0])"
   ]
  },
  {
   "cell_type": "code",
   "execution_count": 44,
   "metadata": {},
   "outputs": [
    {
     "data": {
      "text/plain": [
       "<BatchDataset shapes: ((256, 14), (256, 14)), types: (tf.int32, tf.int32)>"
      ]
     },
     "execution_count": 44,
     "metadata": {},
     "output_type": "execute_result"
    }
   ],
   "source": [
    "BUFFER_SIZE = len(src_input)\n",
    "BATCH_SIZE = 256\n",
    "steps_per_epoch = len(src_input) // BATCH_SIZE\n",
    "VOCAB_SIZE = tokenizer.num_words + 1    # 0:<pad>를 포함하여 7001개\n",
    "dataset = tf.data.Dataset.from_tensor_slices((src_input, tgt_input)).shuffle(BUFFER_SIZE)\n",
    "dataset = dataset.batch(BATCH_SIZE, drop_remainder=True)\n",
    "dataset"
   ]
  },
  {
   "cell_type": "code",
   "execution_count": 45,
   "metadata": {},
   "outputs": [],
   "source": [
    "from sklearn.model_selection import train_test_split\n",
    "enc_train, enc_val, dec_train, dec_val = train_test_split(src_input, tgt_input, test_size=0.2)"
   ]
  },
  {
   "cell_type": "code",
   "execution_count": 46,
   "metadata": {},
   "outputs": [
    {
     "name": "stdout",
     "output_type": "stream",
     "text": [
      "Source Train: (124271, 14)\n",
      "Target Train: (124271, 14)\n"
     ]
    }
   ],
   "source": [
    "print(\"Source Train:\", enc_train.shape)\n",
    "print(\"Target Train:\", dec_train.shape)"
   ]
  },
  {
   "cell_type": "code",
   "execution_count": 47,
   "metadata": {},
   "outputs": [],
   "source": [
    "class TextGenerator(tf.keras.Model): # 텍스트 생성기\n",
    "    def __init__(self, vocab_size, embedding_size, hidden_size):\n",
    "        super(TextGenerator, self).__init__()\n",
    "        self.embedding = tf.keras.layers.Embedding(vocab_size, embedding_size)\n",
    "        self.rnn_1 = tf.keras.layers.LSTM(hidden_size, return_sequences=True)\n",
    "        self.rnn_2 = tf.keras.layers.LSTM(hidden_size, return_sequences=True)\n",
    "        self.linear = tf.keras.layers.Dense(vocab_size)\n",
    "    def call(self, x):\n",
    "        out = self.embedding(x)\n",
    "        out = self.rnn_1(out)\n",
    "        out = self.rnn_2(out)\n",
    "        out = self.linear(out)\n",
    "        return out\n",
    "embedding_size = 256\n",
    "hidden_size = 1024\n",
    "model = TextGenerator(tokenizer.num_words + 1, embedding_size , hidden_size)"
   ]
  },
  {
   "cell_type": "code",
   "execution_count": 48,
   "metadata": {},
   "outputs": [
    {
     "data": {
      "text/plain": [
       "<tf.Tensor: shape=(256, 14, 12001), dtype=float32, numpy=\n",
       "array([[[-4.19513890e-06, -1.09222921e-04, -4.35716356e-05, ...,\n",
       "          2.05335600e-04, -1.55378966e-05, -3.50236456e-04],\n",
       "        [ 2.34603736e-04,  2.80564564e-04,  9.44306084e-05, ...,\n",
       "          1.60920157e-04, -9.56527765e-06, -2.77408137e-04],\n",
       "        [ 4.57151793e-04,  5.22724353e-04,  3.33764940e-04, ...,\n",
       "          1.98872629e-04, -9.38648300e-05, -3.52247094e-04],\n",
       "        ...,\n",
       "        [-1.02158356e-03,  8.07036922e-05,  3.46783287e-04, ...,\n",
       "         -1.53525942e-03, -9.50414047e-04,  1.65737118e-04],\n",
       "        [-1.10295205e-03,  3.95190960e-04,  4.74115484e-04, ...,\n",
       "         -1.65818527e-03, -1.06344977e-03,  1.28114712e-04],\n",
       "        [-1.13764009e-03,  6.64822175e-04,  5.81965782e-04, ...,\n",
       "         -1.73982256e-03, -1.15699472e-03,  6.22093794e-05]],\n",
       "\n",
       "       [[-4.19513890e-06, -1.09222921e-04, -4.35716356e-05, ...,\n",
       "          2.05335600e-04, -1.55378966e-05, -3.50236456e-04],\n",
       "        [ 7.88407415e-05, -1.91896004e-04, -7.33160123e-05, ...,\n",
       "          3.37456353e-04,  7.86194869e-06, -1.60591124e-04],\n",
       "        [ 2.04222510e-04, -8.99595616e-05, -3.49520822e-04, ...,\n",
       "          2.79423897e-04, -2.02032679e-04, -2.08627316e-04],\n",
       "        ...,\n",
       "        [-9.92925372e-04,  2.94349506e-04,  5.78230014e-04, ...,\n",
       "         -1.59523950e-03, -1.40698743e-03, -2.31067650e-04],\n",
       "        [-1.01334567e-03,  4.57056682e-04,  6.59454614e-04, ...,\n",
       "         -1.65553764e-03, -1.48556824e-03, -2.96938175e-04],\n",
       "        [-1.01195893e-03,  5.73542842e-04,  7.16367329e-04, ...,\n",
       "         -1.69738336e-03, -1.53406919e-03, -3.65505752e-04]],\n",
       "\n",
       "       [[-4.19513890e-06, -1.09222921e-04, -4.35716356e-05, ...,\n",
       "          2.05335600e-04, -1.55378966e-05, -3.50236456e-04],\n",
       "        [ 2.34603736e-04,  2.80564564e-04,  9.44306084e-05, ...,\n",
       "          1.60920157e-04, -9.56527765e-06, -2.77408137e-04],\n",
       "        [ 2.88752490e-04,  5.55278559e-04,  1.92966065e-04, ...,\n",
       "         -3.17226513e-05,  2.73453588e-05, -3.09578551e-04],\n",
       "        ...,\n",
       "        [ 4.81778057e-04, -7.01477751e-04,  8.31140569e-05, ...,\n",
       "         -2.50230631e-04, -3.81971258e-05,  7.85542827e-04],\n",
       "        [ 2.52943777e-04, -7.66160898e-04,  2.17362685e-04, ...,\n",
       "         -4.52041131e-04, -8.80541411e-05,  7.24341546e-04],\n",
       "        [ 2.26780539e-05, -6.07702823e-04,  4.24933416e-04, ...,\n",
       "         -7.05751474e-04, -2.14447762e-04,  6.78372628e-04]],\n",
       "\n",
       "       ...,\n",
       "\n",
       "       [[-4.19513890e-06, -1.09222921e-04, -4.35716356e-05, ...,\n",
       "          2.05335600e-04, -1.55378966e-05, -3.50236456e-04],\n",
       "        [ 3.35191202e-04, -1.02277038e-04,  1.64353216e-04, ...,\n",
       "          2.17147957e-04, -2.26329168e-04, -3.46215529e-04],\n",
       "        [ 3.26352310e-04, -1.81571464e-04,  3.34246783e-04, ...,\n",
       "          4.45113837e-04, -4.19249758e-04, -1.58803537e-04],\n",
       "        ...,\n",
       "        [-1.00929197e-03,  5.36654377e-04,  4.62355005e-04, ...,\n",
       "         -2.88001960e-04, -9.12047515e-04,  2.08940677e-04],\n",
       "        [-1.07470783e-03,  7.30971573e-04,  5.66204893e-04, ...,\n",
       "         -5.24161791e-04, -1.06543431e-03,  8.78798310e-05],\n",
       "        [-1.10368920e-03,  8.69620359e-04,  6.47532986e-04, ...,\n",
       "         -7.27528008e-04, -1.18464231e-03, -3.61898565e-05]],\n",
       "\n",
       "       [[-4.19513890e-06, -1.09222921e-04, -4.35716356e-05, ...,\n",
       "          2.05335600e-04, -1.55378966e-05, -3.50236456e-04],\n",
       "        [ 9.66361404e-05, -2.20112022e-04,  4.52206514e-05, ...,\n",
       "          1.20870260e-04,  9.28484296e-05, -2.56326341e-04],\n",
       "        [ 3.44460932e-05, -3.84619372e-04,  1.44919759e-05, ...,\n",
       "          2.08677113e-04,  2.07976656e-04, -1.28108659e-04],\n",
       "        ...,\n",
       "        [-1.35393406e-03, -2.60591158e-04,  1.76877162e-04, ...,\n",
       "         -9.61736543e-04, -3.63873725e-04, -8.20035348e-06],\n",
       "        [-1.37534877e-03,  5.76195453e-05,  3.23465851e-04, ...,\n",
       "         -1.17067539e-03, -5.55324426e-04, -1.30540866e-05],\n",
       "        [-1.35448133e-03,  3.70206952e-04,  4.65134857e-04, ...,\n",
       "         -1.34472700e-03, -7.38698407e-04, -3.37157398e-05]],\n",
       "\n",
       "       [[-4.19513890e-06, -1.09222921e-04, -4.35716356e-05, ...,\n",
       "          2.05335600e-04, -1.55378966e-05, -3.50236456e-04],\n",
       "        [-1.54279733e-05,  1.34034199e-04,  1.10549634e-04, ...,\n",
       "          4.00458812e-04, -3.66878994e-05, -5.87907853e-04],\n",
       "        [ 1.93576896e-04,  6.75074756e-04,  3.25452536e-04, ...,\n",
       "          3.49615788e-04, -7.92257197e-06, -4.57794464e-04],\n",
       "        ...,\n",
       "        [ 5.08835306e-04, -7.42970500e-04,  2.84304318e-04, ...,\n",
       "         -9.49118345e-04, -7.46997481e-04,  5.11666469e-04],\n",
       "        [ 2.35858795e-04, -5.78449923e-04,  4.88194928e-04, ...,\n",
       "         -1.10938167e-03, -8.26812466e-04,  5.44048264e-04],\n",
       "        [ 1.28032261e-05, -3.62596096e-04,  6.74939365e-04, ...,\n",
       "         -1.24437374e-03, -9.15132638e-04,  5.37036220e-04]]],\n",
       "      dtype=float32)>"
      ]
     },
     "execution_count": 48,
     "metadata": {},
     "output_type": "execute_result"
    }
   ],
   "source": [
    "for src_sample, tgt_sample in dataset.take(1): break\n",
    "model(src_sample)"
   ]
  },
  {
   "cell_type": "code",
   "execution_count": 49,
   "metadata": {},
   "outputs": [
    {
     "name": "stdout",
     "output_type": "stream",
     "text": [
      "Model: \"text_generator_3\"\n",
      "_________________________________________________________________\n",
      "Layer (type)                 Output Shape              Param #   \n",
      "=================================================================\n",
      "embedding_3 (Embedding)      multiple                  3072256   \n",
      "_________________________________________________________________\n",
      "lstm_6 (LSTM)                multiple                  5246976   \n",
      "_________________________________________________________________\n",
      "lstm_7 (LSTM)                multiple                  8392704   \n",
      "_________________________________________________________________\n",
      "dense_3 (Dense)              multiple                  12301025  \n",
      "=================================================================\n",
      "Total params: 29,012,961\n",
      "Trainable params: 29,012,961\n",
      "Non-trainable params: 0\n",
      "_________________________________________________________________\n"
     ]
    }
   ],
   "source": [
    "model.summary()"
   ]
  },
  {
   "cell_type": "code",
   "execution_count": 51,
   "metadata": {},
   "outputs": [
    {
     "name": "stdout",
     "output_type": "stream",
     "text": [
      "Epoch 1/10\n",
      "606/606 [==============================] - 1783s 3s/step - loss: 3.3378\n",
      "Epoch 2/10\n",
      "606/606 [==============================] - 1784s 3s/step - loss: 2.6966\n",
      "Epoch 3/10\n",
      "606/606 [==============================] - 1833s 3s/step - loss: 2.4185\n",
      "Epoch 4/10\n",
      "606/606 [==============================] - 1790s 3s/step - loss: 2.1921\n",
      "Epoch 5/10\n",
      "606/606 [==============================] - 1821s 3s/step - loss: 1.9884\n",
      "Epoch 6/10\n",
      "606/606 [==============================] - 1804s 3s/step - loss: 1.8139\n",
      "Epoch 7/10\n",
      "606/606 [==============================] - 1776s 3s/step - loss: 1.6545\n",
      "Epoch 8/10\n",
      "606/606 [==============================] - 1771s 3s/step - loss: 1.5107\n",
      "Epoch 9/10\n",
      "606/606 [==============================] - 1774s 3s/step - loss: 1.3863\n",
      "Epoch 10/10\n",
      "606/606 [==============================] - 1773s 3s/step - loss: 1.2829\n"
     ]
    },
    {
     "data": {
      "text/plain": [
       "<tensorflow.python.keras.callbacks.History at 0x21a2706a1f0>"
      ]
     },
     "execution_count": 51,
     "metadata": {},
     "output_type": "execute_result"
    }
   ],
   "source": [
    "optimizer = tf.keras.optimizers.Adam()\n",
    "loss = tf.keras.losses.SparseCategoricalCrossentropy(\n",
    "    from_logits=True,\n",
    "    reduction='none'\n",
    ")\n",
    "model.compile(loss=loss, optimizer=optimizer)\n",
    "model.fit(dataset, epochs=10)"
   ]
  },
  {
   "cell_type": "code",
   "execution_count": 52,
   "metadata": {},
   "outputs": [],
   "source": [
    "def generate_text(model, tokenizer, init_sentence=\"<start>\", max_len=20):\n",
    "    # 테스트를 위해서 입력받은 init_sentence도 일단 텐서로 변환\n",
    "    test_input = tokenizer.texts_to_sequences([init_sentence])\n",
    "    test_tensor = tf.convert_to_tensor(test_input, dtype=tf.int64)\n",
    "    end_token = tokenizer.word_index[\"<end>\"]\n",
    "    # 텍스트를 실제로 생성할때는 루프를 돌면서 단어 하나씩 생성 \n",
    "    while True:\n",
    "        predict = model(test_tensor)  # 입력받은 문장의 텐서를 입력 \n",
    "        predict_word = tf.argmax(tf.nn.softmax(predict, axis=-1), axis=-1)[:, -1]   # 우리 모델이 예측한 마지막 단어가 바로 새롭게 생성한 단어가 됨 \n",
    "        # 우리 모델이 새롭게 예측한 단어를 입력 문장의 뒤에 붙임\n",
    "        test_tensor = tf.concat([test_tensor, \n",
    "\t\t\t\t\t\t\t\t\t\t\t\t\t\t\t\t tf.expand_dims(predict_word, axis=0)], axis=-1)\n",
    "        # 우리 모델이 <end>를 예측했거나, max_len에 도달하지 않았다면  while 루프를 또 돌면서 다음 단어를 예측\n",
    "        if predict_word.numpy()[0] == end_token: break\n",
    "        if test_tensor.shape[1] >= max_len: break\n",
    "    generated = \"\"\n",
    "    # 생성된 tensor 안에 있는 word index를 tokenizer.index_word 사전을 통해 실제 단어로 하나씩 변환\n",
    "    for word_index in test_tensor[0].numpy():\n",
    "        generated += tokenizer.index_word[word_index] + \" \"\n",
    "    return generated   # 이것이 최종적으로 모델이 생성한 자연어 문장"
   ]
  },
  {
   "cell_type": "code",
   "execution_count": 53,
   "metadata": {},
   "outputs": [
    {
     "data": {
      "text/plain": [
       "'<start> he s a highway chile <end> '"
      ]
     },
     "execution_count": 53,
     "metadata": {},
     "output_type": "execute_result"
    }
   ],
   "source": [
    "generate_text(model, tokenizer, init_sentence=\"<start> he\")"
   ]
  },
  {
   "cell_type": "code",
   "execution_count": 54,
   "metadata": {},
   "outputs": [
    {
     "data": {
      "text/plain": [
       "'<start> love is a beautiful thing <end> '"
      ]
     },
     "execution_count": 54,
     "metadata": {},
     "output_type": "execute_result"
    }
   ],
   "source": [
    "generate_text(model, tokenizer, init_sentence=\"<start> love is\")"
   ]
  },
  {
   "cell_type": "code",
   "execution_count": 55,
   "metadata": {},
   "outputs": [
    {
     "data": {
      "text/plain": [
       "'<start> your smile fades in the summer <end> '"
      ]
     },
     "execution_count": 55,
     "metadata": {},
     "output_type": "execute_result"
    }
   ],
   "source": [
    "generate_text(model, tokenizer, init_sentence=\"<start> your\")"
   ]
  },
  {
   "cell_type": "code",
   "execution_count": 57,
   "metadata": {},
   "outputs": [
    {
     "data": {
      "text/plain": [
       "'<start> my girl <end> '"
      ]
     },
     "execution_count": 57,
     "metadata": {},
     "output_type": "execute_result"
    }
   ],
   "source": [
    "generate_text(model, tokenizer, init_sentence=\"<start> my\")"
   ]
  },
  {
   "cell_type": "code",
   "execution_count": 59,
   "metadata": {},
   "outputs": [
    {
     "data": {
      "text/plain": [
       "'<start> never thought i d see your face again <end> '"
      ]
     },
     "execution_count": 59,
     "metadata": {},
     "output_type": "execute_result"
    }
   ],
   "source": [
    "generate_text(model, tokenizer, init_sentence=\"<start> never\")"
   ]
  },
  {
   "cell_type": "code",
   "execution_count": 60,
   "metadata": {},
   "outputs": [
    {
     "data": {
      "text/plain": [
       "'<start> baby i m from new york <end> '"
      ]
     },
     "execution_count": 60,
     "metadata": {},
     "output_type": "execute_result"
    }
   ],
   "source": [
    "generate_text(model, tokenizer, init_sentence=\"<start> baby\")"
   ]
  },
  {
   "cell_type": "code",
   "execution_count": 67,
   "metadata": {},
   "outputs": [
    {
     "data": {
      "text/plain": [
       "'<start> rainy night i ll be waiting <end> '"
      ]
     },
     "execution_count": 67,
     "metadata": {},
     "output_type": "execute_result"
    }
   ],
   "source": [
    "generate_text(model, tokenizer, init_sentence=\"<start> rainy\")"
   ]
  },
  {
   "cell_type": "code",
   "execution_count": 76,
   "metadata": {},
   "outputs": [
    {
     "data": {
      "text/plain": [
       "'<start> wanna argue all day hangin out all night <end> '"
      ]
     },
     "execution_count": 76,
     "metadata": {},
     "output_type": "execute_result"
    }
   ],
   "source": [
    "generate_text(model, tokenizer, init_sentence=\"<start> wanna\")"
   ]
  }
 ],
 "metadata": {
  "kernelspec": {
   "display_name": "Python 3",
   "language": "python",
   "name": "python3"
  },
  "language_info": {
   "codemirror_mode": {
    "name": "ipython",
    "version": 3
   },
   "file_extension": ".py",
   "mimetype": "text/x-python",
   "name": "python",
   "nbconvert_exporter": "python",
   "pygments_lexer": "ipython3",
   "version": "3.8.5"
  }
 },
 "nbformat": 4,
 "nbformat_minor": 4
}
