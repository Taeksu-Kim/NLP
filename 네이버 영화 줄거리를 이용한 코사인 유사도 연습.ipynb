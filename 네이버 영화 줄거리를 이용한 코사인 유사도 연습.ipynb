{
 "cells": [
  {
   "cell_type": "code",
   "execution_count": 27,
   "metadata": {},
   "outputs": [],
   "source": [
    "import pandas as pd #데이터프레임 사용"
   ]
  },
  {
   "cell_type": "markdown",
   "metadata": {},
   "source": [
    "위키독스 자연어처리 웹페이지의 코드를 사용(https://wikidocs.net/24603)"
   ]
  },
  {
   "cell_type": "code",
   "execution_count": 28,
   "metadata": {},
   "outputs": [
    {
     "data": {
      "text/html": [
       "<div>\n",
       "<style scoped>\n",
       "    .dataframe tbody tr th:only-of-type {\n",
       "        vertical-align: middle;\n",
       "    }\n",
       "\n",
       "    .dataframe tbody tr th {\n",
       "        vertical-align: top;\n",
       "    }\n",
       "\n",
       "    .dataframe thead th {\n",
       "        text-align: right;\n",
       "    }\n",
       "</style>\n",
       "<table border=\"1\" class=\"dataframe\">\n",
       "  <thead>\n",
       "    <tr style=\"text-align: right;\">\n",
       "      <th></th>\n",
       "      <th>0</th>\n",
       "      <th>1</th>\n",
       "      <th>2</th>\n",
       "      <th>3</th>\n",
       "      <th>4</th>\n",
       "      <th>5</th>\n",
       "    </tr>\n",
       "  </thead>\n",
       "  <tbody>\n",
       "    <tr>\n",
       "      <th>0</th>\n",
       "      <td>0</td>\n",
       "      <td>0</td>\n",
       "      <td>0</td>\n",
       "      <td>원더 우먼 1984</td>\n",
       "      <td>/movie/bi/mi/basic.nhn?code=163834</td>\n",
       "      <td>세상이 기다린 히어로, 희망이 되다! 1984년 모든 것이 활기찬 시대, 다이애나 ...</td>\n",
       "    </tr>\n",
       "    <tr>\n",
       "      <th>1</th>\n",
       "      <td>1</td>\n",
       "      <td>1</td>\n",
       "      <td>1</td>\n",
       "      <td>화양연화</td>\n",
       "      <td>/movie/bi/mi/basic.nhn?code=28876</td>\n",
       "      <td>화양연화花樣年華 가장 아름답고 찬란했던 시절  같은 날 같은 아파트로 이사 온 ‘첸...</td>\n",
       "    </tr>\n",
       "    <tr>\n",
       "      <th>2</th>\n",
       "      <td>2</td>\n",
       "      <td>2</td>\n",
       "      <td>2</td>\n",
       "      <td>도굴</td>\n",
       "      <td>/movie/bi/mi/basic.nhn?code=193194</td>\n",
       "      <td>“고물인 줄 알았는데 보물이었다?!”땅 파서 장사하는 도굴꾼들이 온다! 흙 맛만 봐...</td>\n",
       "    </tr>\n",
       "    <tr>\n",
       "      <th>3</th>\n",
       "      <td>3</td>\n",
       "      <td>3</td>\n",
       "      <td>3</td>\n",
       "      <td>조제</td>\n",
       "      <td>/movie/bi/mi/basic.nhn?code=199393</td>\n",
       "      <td>자신을 ‘조제’로 불러달라는 그녀 처음 만난 그날부터 ‘조제’는 ‘영석’에게 잊을 ...</td>\n",
       "    </tr>\n",
       "    <tr>\n",
       "      <th>4</th>\n",
       "      <td>4</td>\n",
       "      <td>4</td>\n",
       "      <td>4</td>\n",
       "      <td>이웃사촌</td>\n",
       "      <td>/movie/bi/mi/basic.nhn?code=164143</td>\n",
       "      <td>적인가, 이웃인가?낮에는 친근한 이웃집 vs 밤에는 수상한 도청팀 백수가장 좌천위기...</td>\n",
       "    </tr>\n",
       "    <tr>\n",
       "      <th>...</th>\n",
       "      <td>...</td>\n",
       "      <td>...</td>\n",
       "      <td>...</td>\n",
       "      <td>...</td>\n",
       "      <td>...</td>\n",
       "      <td>...</td>\n",
       "    </tr>\n",
       "    <tr>\n",
       "      <th>1845</th>\n",
       "      <td>1845</td>\n",
       "      <td>45</td>\n",
       "      <td>45</td>\n",
       "      <td>힐빌리의 노래</td>\n",
       "      <td>/movie/bi/mi/basic.nhn?code=198754</td>\n",
       "      <td>미래가 걸린 중요한 일을 앞두고 고향으로 돌아갈 수밖에 없던 예일대 법대생이 가난하...</td>\n",
       "    </tr>\n",
       "    <tr>\n",
       "      <th>1846</th>\n",
       "      <td>1846</td>\n",
       "      <td>46</td>\n",
       "      <td>46</td>\n",
       "      <td>마작</td>\n",
       "      <td>/movie/bi/mi/basic.nhn?code=31131</td>\n",
       "      <td>현대 도시인들의 처지와 시대에 대한 묘사를 통해 스스로 무엇을 원하는지도 알지 못하...</td>\n",
       "    </tr>\n",
       "    <tr>\n",
       "      <th>1847</th>\n",
       "      <td>1847</td>\n",
       "      <td>47</td>\n",
       "      <td>47</td>\n",
       "      <td>소리도 없이</td>\n",
       "      <td>/movie/bi/mi/basic.nhn?code=187893</td>\n",
       "      <td>악의 없이, 계획에 없던 유괴범이 되다! 범죄 조직의 하청을 받아 근면성실하고 전문...</td>\n",
       "    </tr>\n",
       "    <tr>\n",
       "      <th>1848</th>\n",
       "      <td>1848</td>\n",
       "      <td>48</td>\n",
       "      <td>48</td>\n",
       "      <td>파티마의 기적</td>\n",
       "      <td>/movie/bi/mi/basic.nhn?code=193195</td>\n",
       "      <td>우리의 삶을 바꿀 기적의 영화! 1917년, 제1차 세계대전이 한창이던 어느 날 포...</td>\n",
       "    </tr>\n",
       "    <tr>\n",
       "      <th>1849</th>\n",
       "      <td>1849</td>\n",
       "      <td>49</td>\n",
       "      <td>49</td>\n",
       "      <td>먼 훗날 우리</td>\n",
       "      <td>/movie/bi/mi/basic.nhn?code=175092</td>\n",
       "      <td>2007년 춘절, 귀향하는 기차에서 처음 만나 친구가 된 ‘린젠칭’(정백연)과 ‘팡...</td>\n",
       "    </tr>\n",
       "  </tbody>\n",
       "</table>\n",
       "<p>1850 rows × 6 columns</p>\n",
       "</div>"
      ],
      "text/plain": [
       "         0   1   2           3                                   4  \\\n",
       "0        0   0   0  원더 우먼 1984  /movie/bi/mi/basic.nhn?code=163834   \n",
       "1        1   1   1        화양연화   /movie/bi/mi/basic.nhn?code=28876   \n",
       "2        2   2   2          도굴  /movie/bi/mi/basic.nhn?code=193194   \n",
       "3        3   3   3          조제  /movie/bi/mi/basic.nhn?code=199393   \n",
       "4        4   4   4        이웃사촌  /movie/bi/mi/basic.nhn?code=164143   \n",
       "...    ...  ..  ..         ...                                 ...   \n",
       "1845  1845  45  45     힐빌리의 노래  /movie/bi/mi/basic.nhn?code=198754   \n",
       "1846  1846  46  46          마작   /movie/bi/mi/basic.nhn?code=31131   \n",
       "1847  1847  47  47      소리도 없이  /movie/bi/mi/basic.nhn?code=187893   \n",
       "1848  1848  48  48     파티마의 기적  /movie/bi/mi/basic.nhn?code=193195   \n",
       "1849  1849  49  49     먼 훗날 우리  /movie/bi/mi/basic.nhn?code=175092   \n",
       "\n",
       "                                                      5  \n",
       "0     세상이 기다린 히어로, 희망이 되다! 1984년 모든 것이 활기찬 시대, 다이애나 ...  \n",
       "1     화양연화花樣年華 가장 아름답고 찬란했던 시절  같은 날 같은 아파트로 이사 온 ‘첸...  \n",
       "2     “고물인 줄 알았는데 보물이었다?!”땅 파서 장사하는 도굴꾼들이 온다! 흙 맛만 봐...  \n",
       "3     자신을 ‘조제’로 불러달라는 그녀 처음 만난 그날부터 ‘조제’는 ‘영석’에게 잊을 ...  \n",
       "4     적인가, 이웃인가?낮에는 친근한 이웃집 vs 밤에는 수상한 도청팀 백수가장 좌천위기...  \n",
       "...                                                 ...  \n",
       "1845  미래가 걸린 중요한 일을 앞두고 고향으로 돌아갈 수밖에 없던 예일대 법대생이 가난하...  \n",
       "1846  현대 도시인들의 처지와 시대에 대한 묘사를 통해 스스로 무엇을 원하는지도 알지 못하...  \n",
       "1847  악의 없이, 계획에 없던 유괴범이 되다! 범죄 조직의 하청을 받아 근면성실하고 전문...  \n",
       "1848  우리의 삶을 바꿀 기적의 영화! 1917년, 제1차 세계대전이 한창이던 어느 날 포...  \n",
       "1849  2007년 춘절, 귀향하는 기차에서 처음 만나 친구가 된 ‘린젠칭’(정백연)과 ‘팡...  \n",
       "\n",
       "[1850 rows x 6 columns]"
      ]
     },
     "execution_count": 28,
     "metadata": {},
     "output_type": "execute_result"
    }
   ],
   "source": [
    "data = pd.read_csv(\"./naver_movie1/naver_movie.csv\",header=None) # 파일 불러오기\n",
    "\n",
    "data"
   ]
  },
  {
   "cell_type": "code",
   "execution_count": 29,
   "metadata": {},
   "outputs": [],
   "source": [
    "data.drop([0,1,2], 'columns',inplace=True) # 불필요한 0,1,2,3열 삭제"
   ]
  },
  {
   "cell_type": "code",
   "execution_count": 30,
   "metadata": {},
   "outputs": [
    {
     "data": {
      "text/html": [
       "<div>\n",
       "<style scoped>\n",
       "    .dataframe tbody tr th:only-of-type {\n",
       "        vertical-align: middle;\n",
       "    }\n",
       "\n",
       "    .dataframe tbody tr th {\n",
       "        vertical-align: top;\n",
       "    }\n",
       "\n",
       "    .dataframe thead th {\n",
       "        text-align: right;\n",
       "    }\n",
       "</style>\n",
       "<table border=\"1\" class=\"dataframe\">\n",
       "  <thead>\n",
       "    <tr style=\"text-align: right;\">\n",
       "      <th></th>\n",
       "      <th>3</th>\n",
       "      <th>4</th>\n",
       "      <th>5</th>\n",
       "    </tr>\n",
       "  </thead>\n",
       "  <tbody>\n",
       "    <tr>\n",
       "      <th>0</th>\n",
       "      <td>원더 우먼 1984</td>\n",
       "      <td>/movie/bi/mi/basic.nhn?code=163834</td>\n",
       "      <td>세상이 기다린 히어로, 희망이 되다! 1984년 모든 것이 활기찬 시대, 다이애나 ...</td>\n",
       "    </tr>\n",
       "    <tr>\n",
       "      <th>1</th>\n",
       "      <td>화양연화</td>\n",
       "      <td>/movie/bi/mi/basic.nhn?code=28876</td>\n",
       "      <td>화양연화花樣年華 가장 아름답고 찬란했던 시절  같은 날 같은 아파트로 이사 온 ‘첸...</td>\n",
       "    </tr>\n",
       "    <tr>\n",
       "      <th>2</th>\n",
       "      <td>도굴</td>\n",
       "      <td>/movie/bi/mi/basic.nhn?code=193194</td>\n",
       "      <td>“고물인 줄 알았는데 보물이었다?!”땅 파서 장사하는 도굴꾼들이 온다! 흙 맛만 봐...</td>\n",
       "    </tr>\n",
       "    <tr>\n",
       "      <th>3</th>\n",
       "      <td>조제</td>\n",
       "      <td>/movie/bi/mi/basic.nhn?code=199393</td>\n",
       "      <td>자신을 ‘조제’로 불러달라는 그녀 처음 만난 그날부터 ‘조제’는 ‘영석’에게 잊을 ...</td>\n",
       "    </tr>\n",
       "    <tr>\n",
       "      <th>4</th>\n",
       "      <td>이웃사촌</td>\n",
       "      <td>/movie/bi/mi/basic.nhn?code=164143</td>\n",
       "      <td>적인가, 이웃인가?낮에는 친근한 이웃집 vs 밤에는 수상한 도청팀 백수가장 좌천위기...</td>\n",
       "    </tr>\n",
       "    <tr>\n",
       "      <th>...</th>\n",
       "      <td>...</td>\n",
       "      <td>...</td>\n",
       "      <td>...</td>\n",
       "    </tr>\n",
       "    <tr>\n",
       "      <th>1845</th>\n",
       "      <td>힐빌리의 노래</td>\n",
       "      <td>/movie/bi/mi/basic.nhn?code=198754</td>\n",
       "      <td>미래가 걸린 중요한 일을 앞두고 고향으로 돌아갈 수밖에 없던 예일대 법대생이 가난하...</td>\n",
       "    </tr>\n",
       "    <tr>\n",
       "      <th>1846</th>\n",
       "      <td>마작</td>\n",
       "      <td>/movie/bi/mi/basic.nhn?code=31131</td>\n",
       "      <td>현대 도시인들의 처지와 시대에 대한 묘사를 통해 스스로 무엇을 원하는지도 알지 못하...</td>\n",
       "    </tr>\n",
       "    <tr>\n",
       "      <th>1847</th>\n",
       "      <td>소리도 없이</td>\n",
       "      <td>/movie/bi/mi/basic.nhn?code=187893</td>\n",
       "      <td>악의 없이, 계획에 없던 유괴범이 되다! 범죄 조직의 하청을 받아 근면성실하고 전문...</td>\n",
       "    </tr>\n",
       "    <tr>\n",
       "      <th>1848</th>\n",
       "      <td>파티마의 기적</td>\n",
       "      <td>/movie/bi/mi/basic.nhn?code=193195</td>\n",
       "      <td>우리의 삶을 바꿀 기적의 영화! 1917년, 제1차 세계대전이 한창이던 어느 날 포...</td>\n",
       "    </tr>\n",
       "    <tr>\n",
       "      <th>1849</th>\n",
       "      <td>먼 훗날 우리</td>\n",
       "      <td>/movie/bi/mi/basic.nhn?code=175092</td>\n",
       "      <td>2007년 춘절, 귀향하는 기차에서 처음 만나 친구가 된 ‘린젠칭’(정백연)과 ‘팡...</td>\n",
       "    </tr>\n",
       "  </tbody>\n",
       "</table>\n",
       "<p>1850 rows × 3 columns</p>\n",
       "</div>"
      ],
      "text/plain": [
       "               3                                   4  \\\n",
       "0     원더 우먼 1984  /movie/bi/mi/basic.nhn?code=163834   \n",
       "1           화양연화   /movie/bi/mi/basic.nhn?code=28876   \n",
       "2             도굴  /movie/bi/mi/basic.nhn?code=193194   \n",
       "3             조제  /movie/bi/mi/basic.nhn?code=199393   \n",
       "4           이웃사촌  /movie/bi/mi/basic.nhn?code=164143   \n",
       "...          ...                                 ...   \n",
       "1845     힐빌리의 노래  /movie/bi/mi/basic.nhn?code=198754   \n",
       "1846          마작   /movie/bi/mi/basic.nhn?code=31131   \n",
       "1847      소리도 없이  /movie/bi/mi/basic.nhn?code=187893   \n",
       "1848     파티마의 기적  /movie/bi/mi/basic.nhn?code=193195   \n",
       "1849     먼 훗날 우리  /movie/bi/mi/basic.nhn?code=175092   \n",
       "\n",
       "                                                      5  \n",
       "0     세상이 기다린 히어로, 희망이 되다! 1984년 모든 것이 활기찬 시대, 다이애나 ...  \n",
       "1     화양연화花樣年華 가장 아름답고 찬란했던 시절  같은 날 같은 아파트로 이사 온 ‘첸...  \n",
       "2     “고물인 줄 알았는데 보물이었다?!”땅 파서 장사하는 도굴꾼들이 온다! 흙 맛만 봐...  \n",
       "3     자신을 ‘조제’로 불러달라는 그녀 처음 만난 그날부터 ‘조제’는 ‘영석’에게 잊을 ...  \n",
       "4     적인가, 이웃인가?낮에는 친근한 이웃집 vs 밤에는 수상한 도청팀 백수가장 좌천위기...  \n",
       "...                                                 ...  \n",
       "1845  미래가 걸린 중요한 일을 앞두고 고향으로 돌아갈 수밖에 없던 예일대 법대생이 가난하...  \n",
       "1846  현대 도시인들의 처지와 시대에 대한 묘사를 통해 스스로 무엇을 원하는지도 알지 못하...  \n",
       "1847  악의 없이, 계획에 없던 유괴범이 되다! 범죄 조직의 하청을 받아 근면성실하고 전문...  \n",
       "1848  우리의 삶을 바꿀 기적의 영화! 1917년, 제1차 세계대전이 한창이던 어느 날 포...  \n",
       "1849  2007년 춘절, 귀향하는 기차에서 처음 만나 친구가 된 ‘린젠칭’(정백연)과 ‘팡...  \n",
       "\n",
       "[1850 rows x 3 columns]"
      ]
     },
     "execution_count": 30,
     "metadata": {},
     "output_type": "execute_result"
    }
   ],
   "source": [
    "data"
   ]
  },
  {
   "cell_type": "code",
   "execution_count": 31,
   "metadata": {},
   "outputs": [
    {
     "data": {
      "text/html": [
       "<div>\n",
       "<style scoped>\n",
       "    .dataframe tbody tr th:only-of-type {\n",
       "        vertical-align: middle;\n",
       "    }\n",
       "\n",
       "    .dataframe tbody tr th {\n",
       "        vertical-align: top;\n",
       "    }\n",
       "\n",
       "    .dataframe thead th {\n",
       "        text-align: right;\n",
       "    }\n",
       "</style>\n",
       "<table border=\"1\" class=\"dataframe\">\n",
       "  <thead>\n",
       "    <tr style=\"text-align: right;\">\n",
       "      <th></th>\n",
       "      <th>title</th>\n",
       "      <th>4</th>\n",
       "      <th>overview</th>\n",
       "    </tr>\n",
       "  </thead>\n",
       "  <tbody>\n",
       "    <tr>\n",
       "      <th>0</th>\n",
       "      <td>원더 우먼 1984</td>\n",
       "      <td>/movie/bi/mi/basic.nhn?code=163834</td>\n",
       "      <td>세상이 기다린 히어로, 희망이 되다! 1984년 모든 것이 활기찬 시대, 다이애나 ...</td>\n",
       "    </tr>\n",
       "    <tr>\n",
       "      <th>1</th>\n",
       "      <td>화양연화</td>\n",
       "      <td>/movie/bi/mi/basic.nhn?code=28876</td>\n",
       "      <td>화양연화花樣年華 가장 아름답고 찬란했던 시절  같은 날 같은 아파트로 이사 온 ‘첸...</td>\n",
       "    </tr>\n",
       "    <tr>\n",
       "      <th>2</th>\n",
       "      <td>도굴</td>\n",
       "      <td>/movie/bi/mi/basic.nhn?code=193194</td>\n",
       "      <td>“고물인 줄 알았는데 보물이었다?!”땅 파서 장사하는 도굴꾼들이 온다! 흙 맛만 봐...</td>\n",
       "    </tr>\n",
       "    <tr>\n",
       "      <th>3</th>\n",
       "      <td>조제</td>\n",
       "      <td>/movie/bi/mi/basic.nhn?code=199393</td>\n",
       "      <td>자신을 ‘조제’로 불러달라는 그녀 처음 만난 그날부터 ‘조제’는 ‘영석’에게 잊을 ...</td>\n",
       "    </tr>\n",
       "    <tr>\n",
       "      <th>4</th>\n",
       "      <td>이웃사촌</td>\n",
       "      <td>/movie/bi/mi/basic.nhn?code=164143</td>\n",
       "      <td>적인가, 이웃인가?낮에는 친근한 이웃집 vs 밤에는 수상한 도청팀 백수가장 좌천위기...</td>\n",
       "    </tr>\n",
       "    <tr>\n",
       "      <th>...</th>\n",
       "      <td>...</td>\n",
       "      <td>...</td>\n",
       "      <td>...</td>\n",
       "    </tr>\n",
       "    <tr>\n",
       "      <th>1845</th>\n",
       "      <td>힐빌리의 노래</td>\n",
       "      <td>/movie/bi/mi/basic.nhn?code=198754</td>\n",
       "      <td>미래가 걸린 중요한 일을 앞두고 고향으로 돌아갈 수밖에 없던 예일대 법대생이 가난하...</td>\n",
       "    </tr>\n",
       "    <tr>\n",
       "      <th>1846</th>\n",
       "      <td>마작</td>\n",
       "      <td>/movie/bi/mi/basic.nhn?code=31131</td>\n",
       "      <td>현대 도시인들의 처지와 시대에 대한 묘사를 통해 스스로 무엇을 원하는지도 알지 못하...</td>\n",
       "    </tr>\n",
       "    <tr>\n",
       "      <th>1847</th>\n",
       "      <td>소리도 없이</td>\n",
       "      <td>/movie/bi/mi/basic.nhn?code=187893</td>\n",
       "      <td>악의 없이, 계획에 없던 유괴범이 되다! 범죄 조직의 하청을 받아 근면성실하고 전문...</td>\n",
       "    </tr>\n",
       "    <tr>\n",
       "      <th>1848</th>\n",
       "      <td>파티마의 기적</td>\n",
       "      <td>/movie/bi/mi/basic.nhn?code=193195</td>\n",
       "      <td>우리의 삶을 바꿀 기적의 영화! 1917년, 제1차 세계대전이 한창이던 어느 날 포...</td>\n",
       "    </tr>\n",
       "    <tr>\n",
       "      <th>1849</th>\n",
       "      <td>먼 훗날 우리</td>\n",
       "      <td>/movie/bi/mi/basic.nhn?code=175092</td>\n",
       "      <td>2007년 춘절, 귀향하는 기차에서 처음 만나 친구가 된 ‘린젠칭’(정백연)과 ‘팡...</td>\n",
       "    </tr>\n",
       "  </tbody>\n",
       "</table>\n",
       "<p>1850 rows × 3 columns</p>\n",
       "</div>"
      ],
      "text/plain": [
       "           title                                   4  \\\n",
       "0     원더 우먼 1984  /movie/bi/mi/basic.nhn?code=163834   \n",
       "1           화양연화   /movie/bi/mi/basic.nhn?code=28876   \n",
       "2             도굴  /movie/bi/mi/basic.nhn?code=193194   \n",
       "3             조제  /movie/bi/mi/basic.nhn?code=199393   \n",
       "4           이웃사촌  /movie/bi/mi/basic.nhn?code=164143   \n",
       "...          ...                                 ...   \n",
       "1845     힐빌리의 노래  /movie/bi/mi/basic.nhn?code=198754   \n",
       "1846          마작   /movie/bi/mi/basic.nhn?code=31131   \n",
       "1847      소리도 없이  /movie/bi/mi/basic.nhn?code=187893   \n",
       "1848     파티마의 기적  /movie/bi/mi/basic.nhn?code=193195   \n",
       "1849     먼 훗날 우리  /movie/bi/mi/basic.nhn?code=175092   \n",
       "\n",
       "                                               overview  \n",
       "0     세상이 기다린 히어로, 희망이 되다! 1984년 모든 것이 활기찬 시대, 다이애나 ...  \n",
       "1     화양연화花樣年華 가장 아름답고 찬란했던 시절  같은 날 같은 아파트로 이사 온 ‘첸...  \n",
       "2     “고물인 줄 알았는데 보물이었다?!”땅 파서 장사하는 도굴꾼들이 온다! 흙 맛만 봐...  \n",
       "3     자신을 ‘조제’로 불러달라는 그녀 처음 만난 그날부터 ‘조제’는 ‘영석’에게 잊을 ...  \n",
       "4     적인가, 이웃인가?낮에는 친근한 이웃집 vs 밤에는 수상한 도청팀 백수가장 좌천위기...  \n",
       "...                                                 ...  \n",
       "1845  미래가 걸린 중요한 일을 앞두고 고향으로 돌아갈 수밖에 없던 예일대 법대생이 가난하...  \n",
       "1846  현대 도시인들의 처지와 시대에 대한 묘사를 통해 스스로 무엇을 원하는지도 알지 못하...  \n",
       "1847  악의 없이, 계획에 없던 유괴범이 되다! 범죄 조직의 하청을 받아 근면성실하고 전문...  \n",
       "1848  우리의 삶을 바꿀 기적의 영화! 1917년, 제1차 세계대전이 한창이던 어느 날 포...  \n",
       "1849  2007년 춘절, 귀향하는 기차에서 처음 만나 친구가 된 ‘린젠칭’(정백연)과 ‘팡...  \n",
       "\n",
       "[1850 rows x 3 columns]"
      ]
     },
     "execution_count": 31,
     "metadata": {},
     "output_type": "execute_result"
    }
   ],
   "source": [
    "data.rename({3:'title'},axis='columns',inplace=True) # 열 이름 재설정\n",
    "data.rename({5:'overview'},axis='columns',inplace=True)\n",
    "\n",
    "data"
   ]
  },
  {
   "cell_type": "code",
   "execution_count": 32,
   "metadata": {},
   "outputs": [
    {
     "data": {
      "text/plain": [
       "20"
      ]
     },
     "execution_count": 32,
     "metadata": {},
     "output_type": "execute_result"
    }
   ],
   "source": [
    "data['overview'].isnull().sum() # 줄거리 null 갯수 확인"
   ]
  },
  {
   "cell_type": "code",
   "execution_count": 45,
   "metadata": {},
   "outputs": [
    {
     "name": "stderr",
     "output_type": "stream",
     "text": [
      "<ipython-input-45-f625320884ba>:1: SettingWithCopyWarning: \n",
      "A value is trying to be set on a copy of a slice from a DataFrame.\n",
      "Try using .loc[row_indexer,col_indexer] = value instead\n",
      "\n",
      "See the caveats in the documentation: https://pandas.pydata.org/pandas-docs/stable/user_guide/indexing.html#returning-a-view-versus-a-copy\n",
      "  data['overview'] = data['overview'].fillna('')\n"
     ]
    },
    {
     "data": {
      "text/plain": [
       "0"
      ]
     },
     "execution_count": 45,
     "metadata": {},
     "output_type": "execute_result"
    }
   ],
   "source": [
    "data['overview'] = data['overview'].fillna('') # 줄거리 null은 빈 문자열 ''로 채움.\n",
    "data['overview'].isnull().sum()"
   ]
  },
  {
   "cell_type": "code",
   "execution_count": 35,
   "metadata": {},
   "outputs": [
    {
     "data": {
      "text/plain": [
       "1"
      ]
     },
     "execution_count": 35,
     "metadata": {},
     "output_type": "execute_result"
    }
   ],
   "source": [
    "data['title'].isnull().sum() # 제목 null 갯수 확인"
   ]
  },
  {
   "cell_type": "code",
   "execution_count": 36,
   "metadata": {},
   "outputs": [
    {
     "data": {
      "text/plain": [
       "0"
      ]
     },
     "execution_count": 36,
     "metadata": {},
     "output_type": "execute_result"
    }
   ],
   "source": [
    "data = data.dropna(axis=0) # 제목이 공백인 행 삭제\n",
    "data['title'].isnull().sum()"
   ]
  },
  {
   "cell_type": "code",
   "execution_count": 37,
   "metadata": {},
   "outputs": [
    {
     "name": "stderr",
     "output_type": "stream",
     "text": [
      "<ipython-input-37-1551ec683bd4>:1: SettingWithCopyWarning: \n",
      "A value is trying to be set on a copy of a slice from a DataFrame\n",
      "\n",
      "See the caveats in the documentation: https://pandas.pydata.org/pandas-docs/stable/user_guide/indexing.html#returning-a-view-versus-a-copy\n",
      "  data.drop_duplicates(['title'],inplace=True)\n"
     ]
    }
   ],
   "source": [
    "data.drop_duplicates(['title'],inplace=True) # 제목이 중복인 행 삭제"
   ]
  },
  {
   "cell_type": "code",
   "execution_count": 38,
   "metadata": {},
   "outputs": [
    {
     "data": {
      "text/plain": [
       "(1110, 3)"
      ]
     },
     "execution_count": 38,
     "metadata": {},
     "output_type": "execute_result"
    }
   ],
   "source": [
    "data.shape # 행이 많이 줄어든 것 확인"
   ]
  },
  {
   "cell_type": "code",
   "execution_count": 39,
   "metadata": {},
   "outputs": [
    {
     "name": "stdout",
     "output_type": "stream",
     "text": [
      "(1110, 26813)\n"
     ]
    }
   ],
   "source": [
    "from sklearn.feature_extraction.text import TfidfVectorizer # tfidf를 사용\n",
    "from sklearn.metrics.pairwise import linear_kernel\n",
    "\n",
    "tfidf = TfidfVectorizer(stop_words='english') # 영어거지만 다른 대안을 못 찾아 일단 사용.\n",
    "tfidf_matrix = tfidf.fit_transform(data['overview']) # overview에 대해서 tf-idf 수행\n",
    "print(tfidf_matrix.shape)"
   ]
  },
  {
   "cell_type": "code",
   "execution_count": 40,
   "metadata": {},
   "outputs": [],
   "source": [
    "cosine_sim = linear_kernel(tfidf_matrix, tfidf_matrix) # 코사인 유사도"
   ]
  },
  {
   "cell_type": "code",
   "execution_count": 41,
   "metadata": {},
   "outputs": [
    {
     "name": "stdout",
     "output_type": "stream",
     "text": [
      "title\n",
      "원더 우먼 1984    0\n",
      "화양연화          1\n",
      "도굴            2\n",
      "조제            3\n",
      "이웃사촌          4\n",
      "dtype: int64\n"
     ]
    }
   ],
   "source": [
    "indices = pd.Series(data.index, index=data['title']).drop_duplicates() # 영화 제목과 인덱스만 묶어놓음\n",
    "print(indices.head())"
   ]
  },
  {
   "cell_type": "code",
   "execution_count": 42,
   "metadata": {},
   "outputs": [
    {
     "name": "stdout",
     "output_type": "stream",
     "text": [
      "1\n"
     ]
    }
   ],
   "source": [
    "idx = indices['화양연화'] #indices 테스트\n",
    "print(idx)"
   ]
  },
  {
   "cell_type": "code",
   "execution_count": 43,
   "metadata": {},
   "outputs": [],
   "source": [
    "def get_recommendations(title, cosine_sim=cosine_sim):\n",
    "    # 선택한 영화의 타이틀로부터 해당되는 인덱스를 받아옵니다. 이제 선택한 영화를 가지고 연산할 수 있습니다.\n",
    "    idx = indices[title]\n",
    "\n",
    "    # 모든 영화에 대해서 해당 영화와의 유사도를 구합니다.\n",
    "    sim_scores = list(enumerate(cosine_sim[idx]))\n",
    "\n",
    "    # 유사도에 따라 영화들을 정렬합니다.\n",
    "    sim_scores = sorted(sim_scores, key=lambda x: x[1], reverse=True)\n",
    "\n",
    "    # 가장 유사한 10개의 영화를 받아옵니다.\n",
    "    sim_scores = sim_scores[1:11]\n",
    "\n",
    "    # 가장 유사한 10개의 영화의 인덱스를 받아옵니다.\n",
    "    movie_indices = [i[0] for i in sim_scores]\n",
    "\n",
    "    # 가장 유사한 10개의 영화의 제목을 리턴합니다.\n",
    "    return data['title'].iloc[movie_indices]"
   ]
  },
  {
   "cell_type": "code",
   "execution_count": 44,
   "metadata": {},
   "outputs": [
    {
     "data": {
      "text/plain": [
       "313                          레오나르도 다 빈치\n",
       "1110                              커런트 워\n",
       "491                       노인을 위한 나라는 없다\n",
       "448                     이스케이프 플랜 2: 하데스\n",
       "1689    극장판 짱구는 못말려: 신혼여행 허리케인~ 사라진 아빠!\n",
       "1361                               컨테이젼\n",
       "903                     뽀로로 극장판 보물섬 대모험\n",
       "42                               미스터 존스\n",
       "192                                 게이트\n",
       "658                          거미줄에 걸린 소녀\n",
       "Name: title, dtype: object"
      ]
     },
     "execution_count": 44,
     "metadata": {},
     "output_type": "execute_result"
    }
   ],
   "source": [
    "get_recommendations('도굴') #보물을 줄거리의 유사도로 판단하고 줄거리에 보물이 들어간 영화들을 추천해 줌"
   ]
  },
  {
   "cell_type": "markdown",
   "metadata": {},
   "source": [
    "느낀점\n",
    "\n",
    "실제 사용되는 정보 자체가 짧기 때문에 코사인 유사도를 기반으로한 추천에 한계가 있음\n",
    "\n",
    "어떤 정보를 사용하면 더 효과적일지 생각해보기\n",
    "\n",
    "다른 방법을 떠올리지 못해 사이킷런을 사용했는데 한국어에 더 적합한 방식이 있을지 생각해보기"
   ]
  }
 ],
 "metadata": {
  "kernelspec": {
   "display_name": "Python 3",
   "language": "python",
   "name": "python3"
  },
  "language_info": {
   "codemirror_mode": {
    "name": "ipython",
    "version": 3
   },
   "file_extension": ".py",
   "mimetype": "text/x-python",
   "name": "python",
   "nbconvert_exporter": "python",
   "pygments_lexer": "ipython3",
   "version": "3.8.5"
  }
 },
 "nbformat": 4,
 "nbformat_minor": 4
}
